{
 "cells": [
  {
   "cell_type": "code",
   "execution_count": 2,
   "metadata": {},
   "outputs": [],
   "source": [
    "import pandas as pd"
   ]
  },
  {
   "cell_type": "markdown",
   "metadata": {},
   "source": [
    "### read data from a csv file into data frame"
   ]
  },
  {
   "cell_type": "code",
   "execution_count": 4,
   "metadata": {},
   "outputs": [
    {
     "name": "stdout",
     "output_type": "stream",
     "text": [
      "   ORDERNUMBER  QUANTITYORDERED  PRICEEACH  ORDERLINENUMBER    SALES  \\\n",
      "0        10107               30      95.70                2  2871.00   \n",
      "1        10121               34      81.35                5  2765.90   \n",
      "2        10134               41      94.74                2  3884.34   \n",
      "3        10145               45      83.26                6  3746.70   \n",
      "4        10159               49     100.00               14  5205.27   \n",
      "\n",
      "         ORDERDATE   STATUS  QTR_ID  MONTH_ID  YEAR_ID  ...  \\\n",
      "0   2/24/2003 0:00  Shipped       1         2     2003  ...   \n",
      "1    5/7/2003 0:00  Shipped       2         5     2003  ...   \n",
      "2    7/1/2003 0:00  Shipped       3         7     2003  ...   \n",
      "3   8/25/2003 0:00  Shipped       3         8     2003  ...   \n",
      "4  10/10/2003 0:00  Shipped       4        10     2003  ...   \n",
      "\n",
      "                    ADDRESSLINE1  ADDRESSLINE2           CITY STATE  \\\n",
      "0        897 Long Airport Avenue           NaN            NYC    NY   \n",
      "1             59 rue de l'Abbaye           NaN          Reims   NaN   \n",
      "2  27 rue du Colonel Pierre Avia           NaN          Paris   NaN   \n",
      "3             78934 Hillside Dr.           NaN       Pasadena    CA   \n",
      "4                7734 Strong St.           NaN  San Francisco    CA   \n",
      "\n",
      "  POSTALCODE COUNTRY TERRITORY CONTACTLASTNAME CONTACTFIRSTNAME DEALSIZE  \n",
      "0      10022     USA       NaN              Yu             Kwai    Small  \n",
      "1      51100  France      EMEA         Henriot             Paul    Small  \n",
      "2      75508  France      EMEA        Da Cunha           Daniel   Medium  \n",
      "3      90003     USA       NaN           Young            Julie   Medium  \n",
      "4        NaN     USA       NaN           Brown            Julie   Medium  \n",
      "\n",
      "[5 rows x 25 columns]\n"
     ]
    }
   ],
   "source": [
    "df = pd.read_csv(\"sales_data_sample.csv\", encoding= \"latin1\")\n",
    "\n",
    "print(df.head())\n",
    "# to read top 5 and bottom 5 column we use head or tail inbuilt ffunction\n"
   ]
  },
  {
   "cell_type": "markdown",
   "metadata": {},
   "source": [
    "how to save any file"
   ]
  },
  {
   "cell_type": "code",
   "execution_count": 12,
   "metadata": {},
   "outputs": [
    {
     "name": "stdout",
     "output_type": "stream",
     "text": [
      "  name  age    city\n",
      "0   p1   10  mumbai\n",
      "1   p2   20    pune\n",
      "2   p3   30   thane\n"
     ]
    }
   ],
   "source": [
    "data = {\n",
    "    \"name\":['p1','p2','p3'],\n",
    "    \"age\":[10,20,30],\n",
    "    \"city\":['mumbai','pune','thane']\n",
    "}\n",
    "df = pd.DataFrame(data)\n",
    "print(df)\n",
    "\n",
    "df.to_json(\"outputfile.json\", index=False)\n",
    "# saves the data in the files we want"
   ]
  },
  {
   "cell_type": "markdown",
   "metadata": {},
   "source": [
    "summary of data like how many rows, columns,datatypes , etc"
   ]
  },
  {
   "cell_type": "code",
   "execution_count": 4,
   "metadata": {},
   "outputs": [
    {
     "name": "stdout",
     "output_type": "stream",
     "text": [
      "<class 'pandas.core.frame.DataFrame'>\n",
      "Index: 3 entries, 0 to 2\n",
      "Data columns (total 3 columns):\n",
      " #   Column  Non-Null Count  Dtype \n",
      "---  ------  --------------  ----- \n",
      " 0   name    3 non-null      object\n",
      " 1   age     3 non-null      int64 \n",
      " 2   city    3 non-null      object\n",
      "dtypes: int64(1), object(2)\n",
      "memory usage: 96.0+ bytes\n",
      "None\n"
     ]
    }
   ],
   "source": [
    "df = pd.read_json(\"outputfile.json\")\n",
    "\n",
    "print(df.info())"
   ]
  },
  {
   "cell_type": "markdown",
   "metadata": {},
   "source": [
    "describe a data and its statisctics"
   ]
  },
  {
   "cell_type": "code",
   "execution_count": 9,
   "metadata": {},
   "outputs": [
    {
     "name": "stdout",
     "output_type": "stream",
     "text": [
      "  name  age    city\n",
      "0   p1   10  mumbai\n",
      "1   p2   20    pune\n",
      "2   p3   30   thane\n",
      "\n",
      "describing the data\n",
      "        age\n",
      "count   3.0\n",
      "mean   20.0\n",
      "std    10.0\n",
      "min    10.0\n",
      "25%    15.0\n",
      "50%    20.0\n",
      "75%    25.0\n",
      "max    30.0\n",
      "shape of the data (3, 3)\n",
      "names of the columns Index(['name', 'age', 'city'], dtype='object')\n"
     ]
    }
   ],
   "source": [
    "df = pd.read_json(\"outputfile.json\")\n",
    "print(df)\n",
    "print(\"\")\n",
    "print('describing the data')\n",
    "print(df.describe())\n",
    "print('shape of the data', df.shape)\n",
    "print(\"names of the columns\", df.columns)"
   ]
  },
  {
   "cell_type": "markdown",
   "metadata": {},
   "source": [
    "selecting specific colums,rows and combing multiple conditions"
   ]
  },
  {
   "cell_type": "code",
   "execution_count": 15,
   "metadata": {},
   "outputs": [
    {
     "name": "stdout",
     "output_type": "stream",
     "text": [
      "      name  age  salary  performance score\n",
      "0     yash   17    1000                 70\n",
      "1     ajay   45   70000                 95\n",
      "2    suraj   25   75000                 98\n",
      "3    kiran   42   10000                 98\n",
      "4    anand   28   55000                 90\n",
      "5  nandini   17    2000                 80\n",
      "6  aadivik    1     600                  5\n",
      "printing a single column\n",
      "0       yash\n",
      "1       ajay\n",
      "2      suraj\n",
      "3      kiran\n",
      "4      anand\n",
      "5    nandini\n",
      "6    aadivik\n",
      "Name: name, dtype: object\n",
      "printing multiple column\n",
      "      name  salary\n",
      "0     yash    1000\n",
      "1     ajay   70000\n",
      "2    suraj   75000\n",
      "3    kiran   10000\n",
      "4    anand   55000\n",
      "5  nandini    2000\n",
      "6  aadivik     600\n"
     ]
    }
   ],
   "source": [
    "data = {\n",
    "    \"name\":['yash','ajay','suraj','kiran','anand','nandini','aadivik'],\n",
    "    \"age\":[17,45,25,42,28,17,1],\n",
    "    'salary':[1000,70000,75000,10000,55000,2000,600],\n",
    "    \"performance score\":[70,95,98,98,90,80,5]\n",
    "}\n",
    "\n",
    "df = pd.DataFrame(data)\n",
    "print(df)\n",
    "# printing single column in  series\n",
    "print(\"printing a single column\")\n",
    "name = df[\"name\"]\n",
    "print(name)\n",
    "# selecting multiple columns\n",
    "print(\"printing multiple column\")\n",
    "subset = df[['name', 'salary']]\n",
    "print(subset)"
   ]
  },
  {
   "cell_type": "markdown",
   "metadata": {},
   "source": [
    "filtering rows"
   ]
  },
  {
   "cell_type": "code",
   "execution_count": 29,
   "metadata": {},
   "outputs": [
    {
     "name": "stdout",
     "output_type": "stream",
     "text": [
      "      name  age  salary  performance score\n",
      "0     yash   17    1000                 70\n",
      "1     ajay   45   70000                 95\n",
      "2    suraj   25   75000                 98\n",
      "3    kiran   42   10000                 98\n",
      "4    anand   28   55000                 90\n",
      "5  nandini   17    2000                 80\n",
      "6  aadivik    1     600                  5\n",
      "    name  age  salary  performance score\n",
      "1   ajay   45   70000                 95\n",
      "2  suraj   25   75000                 98\n",
      "4  anand   28   55000                 90\n",
      "filtered rows\n",
      "   name  age  salary  performance score\n",
      "1  ajay   45   70000                 95\n",
      "people age above  30 or salary above 50k\n",
      "    name  age  salary  performance score\n",
      "1   ajay   45   70000                 95\n",
      "2  suraj   25   75000                 98\n",
      "3  kiran   42   10000                 98\n",
      "4  anand   28   55000                 90\n"
     ]
    }
   ],
   "source": [
    "data = {\n",
    "    \"name\":['yash','ajay','suraj','kiran','anand','nandini','aadivik'],\n",
    "    \"age\":[17,45,25,42,28,17,1],\n",
    "    'salary':[1000,70000,75000,10000,55000,2000,600],\n",
    "    \"performance score\":[70,95,98,98,90,80,5]\n",
    "}\n",
    "\n",
    "df = pd.DataFrame(data)\n",
    "print(df)\n",
    "\n",
    "high_salary = df[df['salary']>50000]\n",
    "print(high_salary)  \n",
    "\n",
    "#filtering rows having salary>50000 and age>30\n",
    "print(\"filtered rows\")\n",
    "filtered = df[(df['age']>30)&(df['salary']>50000)]\n",
    "print(filtered)\n",
    "\n",
    "# for any conditions to be true we use or\n",
    "print(\"people age above  30 or salary above 50k\")\n",
    "filtered = df[(df['age']>30)|(df['salary']>50000)]\n",
    "print(filtered)\n"
   ]
  }
 ],
 "metadata": {
  "kernelspec": {
   "display_name": ".venv",
   "language": "python",
   "name": "python3"
  },
  "language_info": {
   "codemirror_mode": {
    "name": "ipython",
    "version": 3
   },
   "file_extension": ".py",
   "mimetype": "text/x-python",
   "name": "python",
   "nbconvert_exporter": "python",
   "pygments_lexer": "ipython3",
   "version": "3.13.2"
  }
 },
 "nbformat": 4,
 "nbformat_minor": 2
}
