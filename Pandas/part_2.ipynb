{
 "cells": [
  {
   "cell_type": "code",
   "execution_count": 1,
   "metadata": {},
   "outputs": [],
   "source": [
    "import pandas as pd"
   ]
  },
  {
   "cell_type": "markdown",
   "metadata": {},
   "source": [
    "adding columns"
   ]
  },
  {
   "cell_type": "code",
   "execution_count": 11,
   "metadata": {},
   "outputs": [
    {
     "name": "stdout",
     "output_type": "stream",
     "text": [
      "      name  age  salary  performance   bonus\n",
      "0     yash   17    1000           70   100.0\n",
      "1     ajay   45   70000           95  7000.0\n",
      "2    suraj   25   75000           98  7500.0\n",
      "3    kiran   42   10000           98  1000.0\n",
      "4    anand   28   55000           90  5500.0\n",
      "5  nandini   17    2000           80   200.0\n",
      "6  aadivik    1     600            5    60.0\n",
      " \n",
      "inserting\n",
      "   family id     name  age  salary  performance   bonus\n",
      "0          5     yash   17    1000           70   100.0\n",
      "1          1     ajay   45   70000           95  7000.0\n",
      "2          4    suraj   25   75000           98  7500.0\n",
      "3          2    kiran   42   10000           98  1000.0\n",
      "4          3    anand   28   55000           90  5500.0\n",
      "5          8  nandini   17    2000           80   200.0\n",
      "6          7  aadivik    1     600            5    60.0\n"
     ]
    }
   ],
   "source": [
    "data = {\n",
    "    \"name\":['yash','ajay','suraj','kiran','anand','nandini','aadivik'],\n",
    "    \"age\":[17,45,25,42,28,17,1],\n",
    "    'salary':[1000,70000,75000,10000,55000,2000,600],\n",
    "    \"performance\":[70,95,98,98,90,80,5]\n",
    "}\n",
    "\n",
    "df = pd.DataFrame(data)\n",
    "# adding colums by assign\n",
    "df[\"bonus\"] = df[\"salary\"]*0.1\n",
    "print(df)\n",
    "\n",
    "#inserting column using insert function \n",
    "#we  can add any where using this\n",
    "print(\" \")\n",
    "print('inserting')\n",
    "df.insert(0,\"family id\",[5,1,4,2,3,8,7])\n",
    "print(df)\n"
   ]
  },
  {
   "cell_type": "markdown",
   "metadata": {},
   "source": [
    "# updating values in a data"
   ]
  },
  {
   "cell_type": "code",
   "execution_count": 18,
   "metadata": {},
   "outputs": [
    {
     "name": "stdout",
     "output_type": "stream",
     "text": [
      "      name  age  salary  performance\n",
      "0     yash   17    1000           70\n",
      "1     ajay   45   70000           95\n",
      "2    suraj   25   75000           98\n",
      "3    kiran   42   10000           98\n",
      "4    anand   28   55000           90\n",
      "5  nandini   17    2000           80\n",
      "6  aadivik    1     700            5\n",
      "salary increased ny 10%\n",
      "      name  age   salary  performance\n",
      "0     yash   17   1100.0           70\n",
      "1     ajay   45  77000.0           95\n",
      "2    suraj   25  82500.0           98\n",
      "3    kiran   42  11000.0           98\n",
      "4    anand   28  60500.0           90\n",
      "5  nandini   17   2200.0           80\n",
      "6  aadivik    1    770.0            5\n"
     ]
    }
   ],
   "source": [
    "data = {\n",
    "    \"name\":['yash','ajay','suraj','kiran','anand','nandini','aadivik'],\n",
    "    \"age\":[17,45,25,42,28,17,1],\n",
    "    'salary':[1000,70000,75000,10000,55000,2000,600],\n",
    "    \"performance\":[70,95,98,98,90,80,5]\n",
    "}\n",
    "\n",
    "df = pd.DataFrame(data) \n",
    "df.loc[6,'salary']=700\n",
    "print(df)\n",
    "\n",
    "# updating salary by 10% who have 90+ performance score\n",
    "print(\"salary increased ny 10%\")\n",
    "df['salary'] = df['salary']*1.1\n",
    "print(df)"
   ]
  },
  {
   "cell_type": "markdown",
   "metadata": {},
   "source": [
    "# deleting rows and columns"
   ]
  },
  {
   "cell_type": "code",
   "execution_count": 2,
   "metadata": {},
   "outputs": [
    {
     "name": "stdout",
     "output_type": "stream",
     "text": [
      "deleting a column\n",
      "deleting multple columns\n",
      "      name  salary\n",
      "0     yash    1000\n",
      "1     ajay   70000\n",
      "2    suraj   75000\n",
      "3    kiran   10000\n",
      "4    anand   55000\n",
      "5  nandini    2000\n",
      "6  aadivik     600\n"
     ]
    }
   ],
   "source": [
    "data = {\n",
    "    \"name\":['yash','ajay','suraj','kiran','anand','nandini','aadivik'],\n",
    "    \"age\":[17,45,25,42,28,17,1],\n",
    "    'salary':[1000,70000,75000,10000,55000,2000,600],\n",
    "    \"performance\":[70,95,98,98,90,80,5]\n",
    "}\n",
    "\n",
    "df = pd.DataFrame(data) \n",
    "print('deleting a column')\n",
    "#df.drop(columns=['performance'], inplace=True)\n",
    "#print(df)\n",
    "\n",
    "print(\"deleting multple columns\")\n",
    "df.drop(columns=['performance' , 'age'], inplace=True)\n",
    "print(df)"
   ]
  },
  {
   "cell_type": "markdown",
   "metadata": {},
   "source": [
    "\n",
    "# missing data"
   ]
  },
  {
   "cell_type": "code",
   "execution_count": 11,
   "metadata": {},
   "outputs": [
    {
     "name": "stdout",
     "output_type": "stream",
     "text": [
      "    name    age  salary  performance\n",
      "0  False  False   False         True\n",
      "1  False  False   False        False\n",
      "2  False  False   False        False\n",
      "3  False  False   False        False\n",
      "4  False  False   False        False\n",
      "5  False  False   False        False\n",
      "6  False  False   False         True\n",
      "name           0\n",
      "age            0\n",
      "salary         0\n",
      "performance    2\n",
      "dtype: int64\n"
     ]
    }
   ],
   "source": [
    "data = {\n",
    "    \"name\":['yash','ajay','suraj','kiran','anand','nandini','aadivik'],\n",
    "    \"age\":[17,45,25,42,28,17,1],\n",
    "    'salary':[1000,70000,75000,10000,55000,2000,600],\n",
    "    \"performance\":[None,95,98,98,90,80,None]\n",
    "}\n",
    "\n",
    "df = pd.DataFrame(data) \n",
    "print(df.isnull())\n",
    "#this return if data is there is false\n",
    "print(df.isnull().sum())\n",
    "#this prints how many places are  empty"
   ]
  },
  {
   "cell_type": "markdown",
   "metadata": {},
   "source": [
    "# handiling the missing data"
   ]
  },
  {
   "cell_type": "code",
   "execution_count": 10,
   "metadata": {},
   "outputs": [
    {
     "name": "stdout",
     "output_type": "stream",
     "text": [
      "      name  age   salary  performance\n",
      "0     yash   17   1000.0         70.0\n",
      "1     ajay   45  70000.0         95.0\n",
      "2    suraj   25  75000.0         98.0\n",
      "3    kiran   42  10000.0         98.0\n",
      "4    anand   28  55000.0         90.0\n",
      "5     None   17   2000.0         80.0\n",
      "6  aadivik    1  35500.0         88.5\n"
     ]
    },
    {
     "name": "stderr",
     "output_type": "stream",
     "text": [
      "C:\\Users\\Anand Kumar\\AppData\\Local\\Temp\\ipykernel_28228\\2096802469.py:16: FutureWarning: A value is trying to be set on a copy of a DataFrame or Series through chained assignment using an inplace method.\n",
      "The behavior will change in pandas 3.0. This inplace method will never work because the intermediate object on which we are setting values always behaves as a copy.\n",
      "\n",
      "For example, when doing 'df[col].method(value, inplace=True)', try using 'df.method({col: value}, inplace=True)' or df[col] = df[col].method(value) instead, to perform the operation inplace on the original object.\n",
      "\n",
      "\n",
      "  df[\"performance\"].fillna(df['performance'].mean(), inplace=True)\n",
      "C:\\Users\\Anand Kumar\\AppData\\Local\\Temp\\ipykernel_28228\\2096802469.py:17: FutureWarning: A value is trying to be set on a copy of a DataFrame or Series through chained assignment using an inplace method.\n",
      "The behavior will change in pandas 3.0. This inplace method will never work because the intermediate object on which we are setting values always behaves as a copy.\n",
      "\n",
      "For example, when doing 'df[col].method(value, inplace=True)', try using 'df.method({col: value}, inplace=True)' or df[col] = df[col].method(value) instead, to perform the operation inplace on the original object.\n",
      "\n",
      "\n",
      "  df['salary'].fillna(df['salary'].mean(), inplace=True)\n"
     ]
    }
   ],
   "source": [
    "data = {\n",
    "    \"name\":['yash','ajay','suraj','kiran','anand',None,'aadivik'],\n",
    "    \"age\":[17,45,25,42,28,17,1],\n",
    "    'salary':[1000,70000,75000,10000,55000,2000,None],\n",
    "    \"performance\":[70,95,98,98,90,80,None]\n",
    "}\n",
    "\n",
    "df = pd.DataFrame(data) \n",
    "#df.dropna(axis=0,inplace=True)# this deletes the empty data row or column\n",
    "#print(df)\n",
    "\n",
    "# df.fillna(0,inplace=True) this fills up the empty data\n",
    "# print(df)\n",
    "\n",
    "\n",
    "df[\"performance\"].fillna(df['performance'].mean(), inplace=True)\n",
    "df['salary'].fillna(df['salary'].mean(), inplace=True)\n",
    "print(df)\n",
    "\n",
    "\n",
    "\n"
   ]
  },
  {
   "cell_type": "markdown",
   "metadata": {},
   "source": [
    "# interpolation - missing values me estimeted value"
   ]
  },
  {
   "cell_type": "code",
   "execution_count": 10,
   "metadata": {},
   "outputs": [
    {
     "name": "stdout",
     "output_type": "stream",
     "text": [
      "      name   age  salary  performance\n",
      "0     yash  17.0    1000          NaN\n",
      "1     ajay  45.0   70000         95.0\n",
      "2    suraj  25.0   75000         98.0\n",
      "3    kiran  42.0   10000         98.0\n",
      "4    anand  28.0   55000         90.0\n",
      "5  nandini  14.5    2000         80.0\n",
      "6  aadivik   1.0     600          5.0\n"
     ]
    },
    {
     "name": "stderr",
     "output_type": "stream",
     "text": [
      "C:\\Users\\Anand Kumar\\AppData\\Local\\Temp\\ipykernel_4348\\1190760767.py:12: FutureWarning: DataFrame.interpolate with object dtype is deprecated and will raise in a future version. Call obj.infer_objects(copy=False) before interpolating instead.\n",
      "  df.interpolate(method='linear', axis=0, inplace=True)\n"
     ]
    }
   ],
   "source": [
    "data = {\n",
    "    \"name\":['yash','ajay','suraj','kiran','anand','nandini','aadivik'],\n",
    "    \"age\":[17,45,25,42,28,None,1],\n",
    "    'salary':[1000,70000,75000,10000,55000,2000,600],\n",
    "    \"performance\":[None,95,98,98,90,80,5]\n",
    "}\n",
    "\n",
    "df = pd.DataFrame(data) \n",
    "#linear\n",
    "#polynomial\n",
    "#time (methods pf filling empty data)\n",
    "df.interpolate(method='linear', axis=0, inplace=True)\n",
    "print(df)"
   ]
  },
  {
   "cell_type": "markdown",
   "metadata": {},
   "source": [
    "# sorting and aggregation"
   ]
  },
  {
   "cell_type": "code",
   "execution_count": 4,
   "metadata": {},
   "outputs": [
    {
     "name": "stdout",
     "output_type": "stream",
     "text": [
      "      name  age  salary  performance\n",
      "6  aadivik    1     600            5\n",
      "0     yash   17    1000           70\n",
      "5  nandini   17    2000           80\n",
      "2    suraj   25   75000           98\n",
      "4    anand   28   55000           90\n",
      "3    kiran   42   10000           98\n",
      "1     ajay   45   70000           95\n",
      " printing avg salaary\n",
      "30514.285714285714\n"
     ]
    }
   ],
   "source": [
    "# sorting data in 1 column\n",
    "data = {\n",
    "    \"name\":['yash','ajay','suraj','kiran','anand','nandini','aadivik'],\n",
    "    \"age\":[17,45,25,42,28,17,1],\n",
    "    'salary':[1000,70000,75000,10000,55000,2000,600],\n",
    "    \"performance\":[70,95,98,98,90,80,5]\n",
    "}\n",
    "\n",
    "df = pd.DataFrame(data) \n",
    "# df.sort_values(by=\"age\",ascending=True,inplace=True)\n",
    "# print(df)\n",
    "\n",
    "# sorting multiple columns\n",
    "df.sort_values(by = ['age','salary'], ascending=True, inplace=True)\n",
    "print(df)\n",
    "print(\"\",\"printing avg salaary\")\n",
    "# agreegating and summaary\n",
    "avg_salary = df[\"salary\"].mean()\n",
    "print(avg_salary)"
   ]
  },
  {
   "cell_type": "markdown",
   "metadata": {},
   "source": [
    "# grouping and agreegating"
   ]
  },
  {
   "cell_type": "code",
   "execution_count": 9,
   "metadata": {},
   "outputs": [
    {
     "name": "stdout",
     "output_type": "stream",
     "text": [
      "age\n",
      "1       600\n",
      "17     3000\n",
      "25    75000\n",
      "28    55000\n",
      "42    10000\n",
      "45    70000\n",
      "Name: salary, dtype: int64\n",
      "age  name   \n",
      "1    aadivik      600\n",
      "17   nandini     2000\n",
      "     yash        1000\n",
      "25   suraj      75000\n",
      "28   anand      55000\n",
      "42   kiran      10000\n",
      "45   ajay       70000\n",
      "Name: salary, dtype: int64\n"
     ]
    }
   ],
   "source": [
    "data = {\n",
    "    \"name\":['yash','ajay','suraj','kiran','anand','nandini','aadivik'],\n",
    "    \"age\":[17,45,25,42,28,17,1],\n",
    "    'salary':[1000,70000,75000,10000,55000,2000,600],\n",
    "}\n",
    "df=pd.DataFrame(data)\n",
    "grouped = df.groupby(\"age\")[\"salary\"].sum()\n",
    "print(grouped)\n",
    "\n",
    "# for multiple columns\n",
    "grouped = df.groupby(['age','name'])['salary'].sum()\n",
    "print(grouped)"
   ]
  },
  {
   "cell_type": "markdown",
   "metadata": {},
   "source": [
    "# merging and joining"
   ]
  },
  {
   "cell_type": "code",
   "execution_count": 20,
   "metadata": {},
   "outputs": [
    {
     "name": "stdout",
     "output_type": "stream",
     "text": [
      "merging two data\n",
      "   customer id  name  order amount\n",
      "0            1  yash           250\n",
      "1            2  ajay           350\n",
      "   customer id   name  order amount\n",
      "0            1   yash         250.0\n",
      "1            2   ajay         350.0\n",
      "2            3  suraj           NaN\n",
      "3            4    NaN         500.0\n",
      "   customer id   name  order amount\n",
      "0            1   yash         250.0\n",
      "1            2   ajay         350.0\n",
      "2            3  suraj           NaN\n",
      "   customer id  name  order amount\n",
      "0            1  yash           250\n",
      "1            2  ajay           350\n",
      "2            4   NaN           500\n"
     ]
    }
   ],
   "source": [
    "df_customer = pd.DataFrame({\n",
    "    'customer id':[1,2,3],\n",
    "    'name':['yash','ajay','suraj']\n",
    "})\n",
    "\n",
    "df_order = pd.DataFrame({\n",
    "    \"customer id\": [1,2,4],\n",
    "    \"order amount\": [250,350,500]\n",
    "})\n",
    "\n",
    "print(\"merging two data\")\n",
    "df_merged = pd.merge(df_customer, df_order,on='customer id', how=\"inner\")\n",
    "print(df_merged)\n",
    "\n",
    "df_merged = pd.merge(df_customer, df_order,on='customer id', how=\"outer\")\n",
    "print(df_merged)\n",
    "\n",
    "df_merged = pd.merge(df_customer, df_order,on='customer id', how=\"left\")\n",
    "print(df_merged)\n",
    "\n",
    "df_merged = pd.merge(df_customer, df_order,on='customer id', how=\"right\")\n",
    "print(df_merged)\n",
    "\n",
    "#df_merged = pd.merge(df_customer, df_order,on='customer id', how=\"cross\")\n",
    "#print(df_merged)"
   ]
  },
  {
   "cell_type": "markdown",
   "metadata": {},
   "source": [
    "concatetion"
   ]
  },
  {
   "cell_type": "code",
   "execution_count": 23,
   "metadata": {},
   "outputs": [
    {
     "name": "stdout",
     "output_type": "stream",
     "text": [
      "   customer id     name\n",
      "0            1     yash\n",
      "1            2     ajay\n",
      "2            3    suraj\n",
      "3            4  aadivik\n",
      "4            5    anand\n",
      "5            6    kiran\n"
     ]
    }
   ],
   "source": [
    "df_customer1 = pd.DataFrame({\n",
    "    'customer id':[1,2,3],\n",
    "    'name':['yash','ajay','suraj']\n",
    "})\n",
    "\n",
    "df_customer2 = pd.DataFrame({\n",
    "    'customer id':[4,5,6],\n",
    "    'name':['aadivik','anand','kiran']\n",
    "})\n",
    "# verticall for horizontal put axis=1\n",
    "df_concate = pd.concat([df_customer1, df_customer2], axis=0,ignore_index=True)\n",
    "print(df_concate)"
   ]
  },
  {
   "cell_type": "markdown",
   "metadata": {},
   "source": [
    "## here we are doe with two librariries now we will go for matplotlip and seaborn"
   ]
  },
  {
   "cell_type": "markdown",
   "metadata": {},
   "source": []
  }
 ],
 "metadata": {
  "kernelspec": {
   "display_name": ".venv",
   "language": "python",
   "name": "python3"
  },
  "language_info": {
   "codemirror_mode": {
    "name": "ipython",
    "version": 3
   },
   "file_extension": ".py",
   "mimetype": "text/x-python",
   "name": "python",
   "nbconvert_exporter": "python",
   "pygments_lexer": "ipython3",
   "version": "3.13.2"
  }
 },
 "nbformat": 4,
 "nbformat_minor": 2
}
