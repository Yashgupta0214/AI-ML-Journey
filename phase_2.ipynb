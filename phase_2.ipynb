{
 "cells": [
  {
   "cell_type": "markdown",
   "metadata": {},
   "source": [
    "# NUMpy array operation"
   ]
  },
  {
   "cell_type": "code",
   "execution_count": 2,
   "metadata": {},
   "outputs": [],
   "source": [
    "import numpy as np"
   ]
  },
  {
   "cell_type": "markdown",
   "metadata": {},
   "source": [
    "### INDEXING AND SLICING"
   ]
  },
  {
   "cell_type": "code",
   "execution_count": 7,
   "metadata": {},
   "outputs": [
    {
     "name": "stdout",
     "output_type": "stream",
     "text": [
      "basic slicing [2 3 4]\n",
      "slicing with steps [2 4 6]\n",
      "negative indexing 6\n"
     ]
    }
   ],
   "source": [
    "# for 1d arrays\n",
    "arr = np.array([1,2,3,4,5,6,7])\n",
    "print('basic slicing', arr[1:4])\n",
    "print('slicing with steps', arr[1:6:2])\n",
    "print('negative indexing', arr[-2])\n"
   ]
  },
  {
   "cell_type": "code",
   "execution_count": 12,
   "metadata": {},
   "outputs": [
    {
     "name": "stdout",
     "output_type": "stream",
     "text": [
      "specific element 1\n",
      "entire row [1 2 3]\n",
      "enitre column [1 4 7]\n"
     ]
    }
   ],
   "source": [
    "arr_2d = np.array([[1,2,3],\n",
    "                   [4,5,6],\n",
    "                   [7,8,9]])\n",
    "\n",
    "print('specific element', arr_2d[0,0]) # here it starts from 0 , first row and first column starts from zero\n",
    "\n",
    "print('entire row', arr_2d[0])\n",
    "\n",
    "print('enitre column', arr_2d[:,0])"
   ]
  },
  {
   "cell_type": "markdown",
   "metadata": {},
   "source": [
    "####  sorting "
   ]
  },
  {
   "cell_type": "code",
   "execution_count": 4,
   "metadata": {},
   "outputs": [
    {
     "name": "stdout",
     "output_type": "stream",
     "text": [
      "sorted array [1 2 3 4 8 9]\n",
      "sorted 2d array by collumn [[1 4]\n",
      " [2 6]\n",
      " [3 9]]\n",
      "sorted 2d array by rows [[2 4]\n",
      " [3 6]\n",
      " [1 9]]\n"
     ]
    }
   ],
   "source": [
    "unstored_arr = np.array([2,3,4,1,9,8])\n",
    "print('sorted array', np.sort(unstored_arr))\n",
    "\n",
    "unstored_2d_arr = np.array([[2,4],[3,6],[1,9]])\n",
    "print(\"sorted 2d array by collumn\", np.sort(unstored_2d_arr, axis=0))\n",
    "print(\"sorted 2d array by rows\", np.sort(unstored_2d_arr, axis=1))"
   ]
  },
  {
   "cell_type": "markdown",
   "metadata": {},
   "source": [
    "## filtering"
   ]
  },
  {
   "cell_type": "code",
   "execution_count": 5,
   "metadata": {},
   "outputs": [
    {
     "name": "stdout",
     "output_type": "stream",
     "text": [
      "even numbers in the list are : [ 2  4  6  8 10]\n"
     ]
    }
   ],
   "source": [
    "numbers = np.array([1,2,3,4,5,6,7,8,9,10])\n",
    "even_numbers = numbers[numbers % 2 == 0]\n",
    "print(\"even numbers in the list are :\" ,even_numbers)\n"
   ]
  },
  {
   "cell_type": "markdown",
   "metadata": {},
   "source": [
    "## filter by mask"
   ]
  },
  {
   "cell_type": "code",
   "execution_count": 6,
   "metadata": {},
   "outputs": [
    {
     "name": "stdout",
     "output_type": "stream",
     "text": [
      "numbers greater than 5 [ 6  7  8  9 10]\n"
     ]
    }
   ],
   "source": [
    "mask = numbers > 5\n",
    "print(\"numbers greater than 5\", numbers[mask])"
   ]
  },
  {
   "cell_type": "markdown",
   "metadata": {},
   "source": [
    "fancy indexing vs np.where"
   ]
  },
  {
   "cell_type": "code",
   "execution_count": 7,
   "metadata": {},
   "outputs": [
    {
     "name": "stdout",
     "output_type": "stream",
     "text": [
      "[1, 2, 5]\n",
      "[ 6  7  8  9 10]\n"
     ]
    }
   ],
   "source": [
    "indices = [1,2,5]\n",
    "print(indices)\n",
    "\n",
    "where_result = np.where(numbers > 5)\n",
    "print( numbers[where_result])"
   ]
  },
  {
   "cell_type": "code",
   "execution_count": 15,
   "metadata": {},
   "outputs": [
    {
     "name": "stdout",
     "output_type": "stream",
     "text": [
      "['false' 'false' 'false' 'false' 'false' 'true' 'true' 'true' 'true'\n",
      " 'true']\n"
     ]
    }
   ],
   "source": [
    "conditions_array=np.where(numbers>5,\"true\",\"false\")\n",
    "print(conditions_array)"
   ]
  },
  {
   "cell_type": "markdown",
   "metadata": {},
   "source": [
    "## adding and removing data"
   ]
  },
  {
   "cell_type": "code",
   "execution_count": 18,
   "metadata": {},
   "outputs": [
    {
     "name": "stdout",
     "output_type": "stream",
     "text": [
      "[5 7 9]\n",
      "[1 2 3 4 5 6]\n"
     ]
    }
   ],
   "source": [
    "arr_1 = np.array([1,2,3])\n",
    "arr_2 = np.array([4,5,6])\n",
    "\n",
    "add_arr= arr_1+arr_2\n",
    "print(add_arr)\n",
    "\n",
    "combined_arr = np.concatenate((arr_1,arr_2))\n",
    "print(combined_arr)\n",
    "\n"
   ]
  },
  {
   "cell_type": "markdown",
   "metadata": {},
   "source": [
    "### array compatibility"
   ]
  },
  {
   "cell_type": "code",
   "execution_count": 21,
   "metadata": {},
   "outputs": [
    {
     "name": "stdout",
     "output_type": "stream",
     "text": [
      "compatibility shapes True\n",
      "False\n"
     ]
    }
   ],
   "source": [
    "a = np.array([1,2,3])\n",
    "b = np.array([4,5,6])\n",
    "c = np.array([7,8,9,0])\n",
    "\n",
    "print('compatibility shapes', a.shape == b.shape)\n",
    "print(b.shape == c.shape)\n"
   ]
  },
  {
   "cell_type": "code",
   "execution_count": 26,
   "metadata": {},
   "outputs": [
    {
     "name": "stdout",
     "output_type": "stream",
     "text": [
      "[[1 2]\n",
      " [3 4]\n",
      " [5 6]]\n",
      "[[1 2 5]\n",
      " [3 4 6]]\n"
     ]
    }
   ],
   "source": [
    "original_arr = np.array([[1,2],[3,4]])\n",
    "new_row = np.array([5,6])\n",
    "new_col = np. array([[5],[6]])\n",
    "\n",
    "with_new_row = np.vstack((original_arr, new_row))\n",
    "print(with_new_row)\n",
    "\n",
    "with_new_col = np.hstack((original_arr,new_col))\n",
    "print(with_new_col)"
   ]
  },
  {
   "cell_type": "code",
   "execution_count": 28,
   "metadata": {},
   "outputs": [
    {
     "name": "stdout",
     "output_type": "stream",
     "text": [
      "[1 2 3 5]\n"
     ]
    }
   ],
   "source": [
    "arr= np.array([1,2,3,4,5])\n",
    "delete = np.delete(arr,3)\n",
    "print(delete)"
   ]
  }
 ],
 "metadata": {
  "kernelspec": {
   "display_name": "venv",
   "language": "python",
   "name": "python3"
  },
  "language_info": {
   "codemirror_mode": {
    "name": "ipython",
    "version": 3
   },
   "file_extension": ".py",
   "mimetype": "text/x-python",
   "name": "python",
   "nbconvert_exporter": "python",
   "pygments_lexer": "ipython3",
   "version": "3.13.2"
  }
 },
 "nbformat": 4,
 "nbformat_minor": 2
}
